{
  "nbformat": 4,
  "nbformat_minor": 0,
  "metadata": {
    "colab": {
      "provenance": [],
      "gpuType": "T4",
      "authorship_tag": "ABX9TyMpxeQIbyKEh+CpAP2F1n/L",
      "include_colab_link": true
    },
    "kernelspec": {
      "name": "python3",
      "display_name": "Python 3"
    },
    "language_info": {
      "name": "python"
    }
  },
  "cells": [
    {
      "cell_type": "markdown",
      "metadata": {
        "id": "view-in-github",
        "colab_type": "text"
      },
      "source": [
        "<a href=\"https://colab.research.google.com/github/Fahad-Alkhalidy/pytorch/blob/main/pytorch.ipynb\" target=\"_parent\"><img src=\"https://colab.research.google.com/assets/colab-badge.svg\" alt=\"Open In Colab\"/></a>"
      ]
    },
    {
      "cell_type": "code",
      "execution_count": 5,
      "metadata": {
        "colab": {
          "base_uri": "https://localhost:8080/"
        },
        "id": "oah3Nm5WsgGB",
        "outputId": "a5cd19a1-551d-4409-f51c-f14798203c10"
      },
      "outputs": [
        {
          "output_type": "stream",
          "name": "stdout",
          "text": [
            "2.2.1+cu121\n"
          ]
        }
      ],
      "source": [
        "import torch\n",
        "print(torch.__version__)"
      ]
    },
    {
      "cell_type": "code",
      "source": [
        "scalar = torch.tensor(7)\n",
        "scalar"
      ],
      "metadata": {
        "colab": {
          "base_uri": "https://localhost:8080/"
        },
        "id": "XkIZorXo28-t",
        "outputId": "bd02f470-46e1-4fc1-9423-1d67b4beaaaf"
      },
      "execution_count": 6,
      "outputs": [
        {
          "output_type": "execute_result",
          "data": {
            "text/plain": [
              "tensor(7)"
            ]
          },
          "metadata": {},
          "execution_count": 6
        }
      ]
    },
    {
      "cell_type": "code",
      "source": [
        "scalar.ndim"
      ],
      "metadata": {
        "colab": {
          "base_uri": "https://localhost:8080/"
        },
        "id": "R5dNxm1n3Hwh",
        "outputId": "cc29311d-8541-4bc7-da2c-271ac5ae75bf"
      },
      "execution_count": 7,
      "outputs": [
        {
          "output_type": "execute_result",
          "data": {
            "text/plain": [
              "0"
            ]
          },
          "metadata": {},
          "execution_count": 7
        }
      ]
    },
    {
      "cell_type": "code",
      "source": [
        "vector = torch.tensor([7,7])\n",
        "vector"
      ],
      "metadata": {
        "colab": {
          "base_uri": "https://localhost:8080/"
        },
        "id": "7vRRZLVQ34fM",
        "outputId": "e8cc0575-0dcd-44b5-e95e-97e25f2d6085"
      },
      "execution_count": 8,
      "outputs": [
        {
          "output_type": "execute_result",
          "data": {
            "text/plain": [
              "tensor([7, 7])"
            ]
          },
          "metadata": {},
          "execution_count": 8
        }
      ]
    },
    {
      "cell_type": "code",
      "source": [
        "vector.ndim"
      ],
      "metadata": {
        "colab": {
          "base_uri": "https://localhost:8080/"
        },
        "id": "EGOZ0IOj39Eo",
        "outputId": "59f2e6dd-25fe-4985-aa5b-d0c776a4610b"
      },
      "execution_count": 9,
      "outputs": [
        {
          "output_type": "execute_result",
          "data": {
            "text/plain": [
              "1"
            ]
          },
          "metadata": {},
          "execution_count": 9
        }
      ]
    },
    {
      "cell_type": "code",
      "source": [
        "vector.shape"
      ],
      "metadata": {
        "colab": {
          "base_uri": "https://localhost:8080/"
        },
        "id": "UzYECnad4DXp",
        "outputId": "ed16ae00-1a89-42e4-9950-306e03f624ab"
      },
      "execution_count": 10,
      "outputs": [
        {
          "output_type": "execute_result",
          "data": {
            "text/plain": [
              "torch.Size([2])"
            ]
          },
          "metadata": {},
          "execution_count": 10
        }
      ]
    },
    {
      "cell_type": "code",
      "source": [
        "MATRIX = torch.tensor([[7,8], [3,3]])\n",
        "MATRIX"
      ],
      "metadata": {
        "colab": {
          "base_uri": "https://localhost:8080/"
        },
        "id": "EjILQyP54GU_",
        "outputId": "5e83b71e-6631-4a18-a378-c03705793a4b"
      },
      "execution_count": 12,
      "outputs": [
        {
          "output_type": "execute_result",
          "data": {
            "text/plain": [
              "tensor([[7, 8],\n",
              "        [3, 3]])"
            ]
          },
          "metadata": {},
          "execution_count": 12
        }
      ]
    },
    {
      "cell_type": "code",
      "source": [
        "MATRIX.ndim"
      ],
      "metadata": {
        "colab": {
          "base_uri": "https://localhost:8080/"
        },
        "id": "tgSY-Vcn4Rpg",
        "outputId": "90dba8d6-1d53-48f9-f33d-73d496db4bef"
      },
      "execution_count": 13,
      "outputs": [
        {
          "output_type": "execute_result",
          "data": {
            "text/plain": [
              "2"
            ]
          },
          "metadata": {},
          "execution_count": 13
        }
      ]
    },
    {
      "cell_type": "code",
      "source": [
        "MATRIX.shape"
      ],
      "metadata": {
        "colab": {
          "base_uri": "https://localhost:8080/"
        },
        "id": "k94QbZW34cBn",
        "outputId": "7761a132-1ad3-4947-9328-f577cae2bae5"
      },
      "execution_count": 14,
      "outputs": [
        {
          "output_type": "execute_result",
          "data": {
            "text/plain": [
              "torch.Size([2, 2])"
            ]
          },
          "metadata": {},
          "execution_count": 14
        }
      ]
    },
    {
      "cell_type": "code",
      "source": [
        "TENSOR = torch.tensor([[[1,2,3], [23,32,3],[2,3,5]]])\n",
        "TENSOR"
      ],
      "metadata": {
        "colab": {
          "base_uri": "https://localhost:8080/"
        },
        "id": "Dw3t5eMV4d3i",
        "outputId": "a9ebc0bf-7424-4a94-8227-19851639b229"
      },
      "execution_count": 16,
      "outputs": [
        {
          "output_type": "execute_result",
          "data": {
            "text/plain": [
              "tensor([[[ 1,  2,  3],\n",
              "         [23, 32,  3],\n",
              "         [ 2,  3,  5]]])"
            ]
          },
          "metadata": {},
          "execution_count": 16
        }
      ]
    },
    {
      "cell_type": "code",
      "source": [
        "TENSOR.shape"
      ],
      "metadata": {
        "colab": {
          "base_uri": "https://localhost:8080/"
        },
        "id": "rvVFFno04rw-",
        "outputId": "7c6df929-c8db-4f33-cfc2-2aa92c2f03d8"
      },
      "execution_count": 17,
      "outputs": [
        {
          "output_type": "execute_result",
          "data": {
            "text/plain": [
              "torch.Size([1, 3, 3])"
            ]
          },
          "metadata": {},
          "execution_count": 17
        }
      ]
    },
    {
      "cell_type": "code",
      "source": [
        "TENSOR.ndim"
      ],
      "metadata": {
        "colab": {
          "base_uri": "https://localhost:8080/"
        },
        "id": "uDlAAnuV4vpR",
        "outputId": "add9d69e-fd20-4766-9b34-eb6b318fa16b"
      },
      "execution_count": 18,
      "outputs": [
        {
          "output_type": "execute_result",
          "data": {
            "text/plain": [
              "3"
            ]
          },
          "metadata": {},
          "execution_count": 18
        }
      ]
    },
    {
      "cell_type": "markdown",
      "source": [
        "###Random Tensors"
      ],
      "metadata": {
        "id": "JnQoCRJD5MWk"
      }
    },
    {
      "cell_type": "code",
      "source": [
        "random_tensor = torch.rand(3,4)\n",
        "random_tensor"
      ],
      "metadata": {
        "colab": {
          "base_uri": "https://localhost:8080/"
        },
        "id": "coG0b2kC5pEK",
        "outputId": "5ef2deaf-c473-4836-cf28-13a1cc778c9d"
      },
      "execution_count": 19,
      "outputs": [
        {
          "output_type": "execute_result",
          "data": {
            "text/plain": [
              "tensor([[0.6239, 0.6123, 0.1430, 0.4648],\n",
              "        [0.0775, 0.5297, 0.6598, 0.4664],\n",
              "        [0.6971, 0.2016, 0.8560, 0.7755]])"
            ]
          },
          "metadata": {},
          "execution_count": 19
        }
      ]
    },
    {
      "cell_type": "code",
      "source": [
        "random_tensor.ndim"
      ],
      "metadata": {
        "colab": {
          "base_uri": "https://localhost:8080/"
        },
        "id": "LF7J5agW6BHR",
        "outputId": "177bbfb5-6354-4645-95c2-bb732f6dd35e"
      },
      "execution_count": 20,
      "outputs": [
        {
          "output_type": "execute_result",
          "data": {
            "text/plain": [
              "2"
            ]
          },
          "metadata": {},
          "execution_count": 20
        }
      ]
    },
    {
      "cell_type": "code",
      "source": [
        "random_image_size_tensor = torch.rand(23,212,23)\n",
        "random_image_size_tensor.shape, random_image_size_tensor.ndim"
      ],
      "metadata": {
        "colab": {
          "base_uri": "https://localhost:8080/"
        },
        "id": "kOchRDCC6HlF",
        "outputId": "e7a24bfe-619c-40f2-ce3c-c9bd42761702"
      },
      "execution_count": 21,
      "outputs": [
        {
          "output_type": "execute_result",
          "data": {
            "text/plain": [
              "(torch.Size([23, 212, 23]), 3)"
            ]
          },
          "metadata": {},
          "execution_count": 21
        }
      ]
    },
    {
      "cell_type": "code",
      "source": [
        "random_image_size_tensor"
      ],
      "metadata": {
        "colab": {
          "base_uri": "https://localhost:8080/"
        },
        "id": "iAuqt7dS6tiB",
        "outputId": "55a2e99f-f202-446b-87af-804839dac9fc"
      },
      "execution_count": 22,
      "outputs": [
        {
          "output_type": "execute_result",
          "data": {
            "text/plain": [
              "tensor([[[0.1891, 0.1235, 0.7745,  ..., 0.8688, 0.9367, 0.1922],\n",
              "         [0.4888, 0.6768, 0.3584,  ..., 0.4728, 0.4463, 0.4747],\n",
              "         [0.1461, 0.8072, 0.4564,  ..., 0.4256, 0.5647, 0.7536],\n",
              "         ...,\n",
              "         [0.4814, 0.8350, 0.1896,  ..., 0.6608, 0.8270, 0.1181],\n",
              "         [0.4125, 0.0268, 0.4838,  ..., 0.8147, 0.8243, 0.7358],\n",
              "         [0.6497, 0.5335, 0.3846,  ..., 0.5753, 0.8837, 0.6911]],\n",
              "\n",
              "        [[0.5047, 0.6361, 0.6694,  ..., 0.6419, 0.8724, 0.0593],\n",
              "         [0.0165, 0.9906, 0.5738,  ..., 0.4252, 0.5498, 0.0384],\n",
              "         [0.1269, 0.7659, 0.4937,  ..., 0.8335, 0.0928, 0.0327],\n",
              "         ...,\n",
              "         [0.3136, 0.3834, 0.1298,  ..., 0.5304, 0.2025, 0.6486],\n",
              "         [0.2365, 0.9309, 0.3140,  ..., 0.2514, 0.1178, 0.9692],\n",
              "         [0.5197, 0.5233, 0.3556,  ..., 0.4573, 0.8702, 0.6964]],\n",
              "\n",
              "        [[0.4124, 0.7581, 0.2458,  ..., 0.7937, 0.1983, 0.4762],\n",
              "         [0.7479, 0.2281, 0.1884,  ..., 0.4128, 0.8178, 0.7871],\n",
              "         [0.3297, 0.5600, 0.0875,  ..., 0.1384, 0.9222, 0.8331],\n",
              "         ...,\n",
              "         [0.2929, 0.8637, 0.1164,  ..., 0.0020, 0.1888, 0.7701],\n",
              "         [0.0961, 0.5680, 0.0703,  ..., 0.5757, 0.1332, 0.8530],\n",
              "         [0.8068, 0.4219, 0.5878,  ..., 0.0194, 0.3642, 0.3270]],\n",
              "\n",
              "        ...,\n",
              "\n",
              "        [[0.9477, 0.1951, 0.6466,  ..., 0.9683, 0.2289, 0.6541],\n",
              "         [0.3724, 0.3285, 0.4385,  ..., 0.0339, 0.9708, 0.4376],\n",
              "         [0.7086, 0.3043, 0.2870,  ..., 0.7090, 0.8716, 0.7738],\n",
              "         ...,\n",
              "         [0.3894, 0.5265, 0.2916,  ..., 0.7819, 0.3444, 0.2733],\n",
              "         [0.9678, 0.8383, 0.9306,  ..., 0.7348, 0.0802, 0.5284],\n",
              "         [0.4842, 0.0678, 0.7472,  ..., 0.8911, 0.1046, 0.8783]],\n",
              "\n",
              "        [[0.8578, 0.1886, 0.3423,  ..., 0.1242, 0.4401, 0.9274],\n",
              "         [0.9563, 0.6756, 0.1579,  ..., 0.8993, 0.4475, 0.9366],\n",
              "         [0.0784, 0.7547, 0.0710,  ..., 0.6556, 0.6065, 0.4641],\n",
              "         ...,\n",
              "         [0.4023, 0.4074, 0.2594,  ..., 0.5673, 0.6229, 0.4628],\n",
              "         [0.6150, 0.5903, 0.6362,  ..., 0.0863, 0.7641, 0.4487],\n",
              "         [0.5704, 0.6467, 0.9724,  ..., 0.0489, 0.8990, 0.5133]],\n",
              "\n",
              "        [[0.5024, 0.9987, 0.6725,  ..., 0.7390, 0.4692, 0.8293],\n",
              "         [0.2751, 0.6500, 0.7045,  ..., 0.9348, 0.0997, 0.1280],\n",
              "         [0.4291, 0.6318, 0.5085,  ..., 0.6212, 0.1684, 0.0829],\n",
              "         ...,\n",
              "         [0.9231, 0.4445, 0.7029,  ..., 0.8152, 0.5564, 0.9112],\n",
              "         [0.5411, 0.7675, 0.4400,  ..., 0.0194, 0.3727, 0.5490],\n",
              "         [0.8418, 0.1164, 0.5992,  ..., 0.9017, 0.3007, 0.0439]]])"
            ]
          },
          "metadata": {},
          "execution_count": 22
        }
      ]
    },
    {
      "cell_type": "markdown",
      "source": [
        "##Zeros and ones"
      ],
      "metadata": {
        "id": "sCnZmTWo61TN"
      }
    },
    {
      "cell_type": "code",
      "source": [
        "zeros = torch.zeros(2,3)"
      ],
      "metadata": {
        "id": "mhaGpTYz7Oii"
      },
      "execution_count": 23,
      "outputs": []
    },
    {
      "cell_type": "code",
      "source": [
        "zeros"
      ],
      "metadata": {
        "colab": {
          "base_uri": "https://localhost:8080/"
        },
        "id": "t2KKS3jX7SO1",
        "outputId": "f74b73c3-13b1-4c9c-893a-0ffaa2cc38df"
      },
      "execution_count": 24,
      "outputs": [
        {
          "output_type": "execute_result",
          "data": {
            "text/plain": [
              "tensor([[0., 0., 0.],\n",
              "        [0., 0., 0.]])"
            ]
          },
          "metadata": {},
          "execution_count": 24
        }
      ]
    },
    {
      "cell_type": "code",
      "source": [
        "ones = torch.ones(2,3)"
      ],
      "metadata": {
        "id": "wEDYOktr7TP3"
      },
      "execution_count": 25,
      "outputs": []
    },
    {
      "cell_type": "code",
      "source": [
        "ones"
      ],
      "metadata": {
        "colab": {
          "base_uri": "https://localhost:8080/"
        },
        "id": "2BFNWZgA7ZA1",
        "outputId": "dca4484d-42e0-477a-fe97-470e47cfff27"
      },
      "execution_count": 26,
      "outputs": [
        {
          "output_type": "execute_result",
          "data": {
            "text/plain": [
              "tensor([[1., 1., 1.],\n",
              "        [1., 1., 1.]])"
            ]
          },
          "metadata": {},
          "execution_count": 26
        }
      ]
    },
    {
      "cell_type": "code",
      "source": [
        "ones.dtype"
      ],
      "metadata": {
        "colab": {
          "base_uri": "https://localhost:8080/"
        },
        "id": "TzIbCFJi7Zj3",
        "outputId": "fad1b474-385c-4075-eef1-713ddb3a4836"
      },
      "execution_count": 27,
      "outputs": [
        {
          "output_type": "execute_result",
          "data": {
            "text/plain": [
              "torch.float32"
            ]
          },
          "metadata": {},
          "execution_count": 27
        }
      ]
    },
    {
      "cell_type": "markdown",
      "source": [
        "##creating a range of tensors and tensors-like"
      ],
      "metadata": {
        "id": "0TPcnztT7bGA"
      }
    },
    {
      "cell_type": "code",
      "source": [
        "one_to_ten = torch.arange(start = 1, end=12, step =2)\n",
        "one_to_ten"
      ],
      "metadata": {
        "colab": {
          "base_uri": "https://localhost:8080/"
        },
        "id": "V6561drk7pcn",
        "outputId": "b6feb99f-a21b-4539-92b0-640e11ab889c"
      },
      "execution_count": 7,
      "outputs": [
        {
          "output_type": "execute_result",
          "data": {
            "text/plain": [
              "tensor([ 1,  3,  5,  7,  9, 11])"
            ]
          },
          "metadata": {},
          "execution_count": 7
        }
      ]
    },
    {
      "cell_type": "code",
      "source": [
        "#creating tensors-like\n",
        "ten_zeros = torch.zeros_like(one_to_ten)"
      ],
      "metadata": {
        "id": "5ylEF_VN7rXm"
      },
      "execution_count": 8,
      "outputs": []
    },
    {
      "cell_type": "code",
      "source": [
        "ten_zeros"
      ],
      "metadata": {
        "colab": {
          "base_uri": "https://localhost:8080/"
        },
        "id": "UexEr3_A8Viy",
        "outputId": "5d182807-1c3e-4b1f-95b4-b80dbf549b47"
      },
      "execution_count": 9,
      "outputs": [
        {
          "output_type": "execute_result",
          "data": {
            "text/plain": [
              "tensor([0, 0, 0, 0, 0, 0])"
            ]
          },
          "metadata": {},
          "execution_count": 9
        }
      ]
    },
    {
      "cell_type": "code",
      "source": [],
      "metadata": {
        "id": "M7wq5CUA8XJK"
      },
      "execution_count": null,
      "outputs": []
    }
  ]
}